{
 "cells": [
  {
   "cell_type": "code",
   "execution_count": 1,
   "id": "87b56ed2",
   "metadata": {},
   "outputs": [],
   "source": [
    "from bs4 import BeautifulSoup\n",
    "import requests\n",
    "import json\n",
    "import pandas as pd\n",
    "import os\n",
    "import time\n",
    "from tqdm import tqdm"
   ]
  },
  {
   "cell_type": "code",
   "execution_count": 29,
   "id": "1b4927e1",
   "metadata": {},
   "outputs": [
    {
     "data": {
      "text/html": [
       "<div>\n",
       "<style scoped>\n",
       "    .dataframe tbody tr th:only-of-type {\n",
       "        vertical-align: middle;\n",
       "    }\n",
       "\n",
       "    .dataframe tbody tr th {\n",
       "        vertical-align: top;\n",
       "    }\n",
       "\n",
       "    .dataframe thead th {\n",
       "        text-align: right;\n",
       "    }\n",
       "</style>\n",
       "<table border=\"1\" class=\"dataframe\">\n",
       "  <thead>\n",
       "    <tr style=\"text-align: right;\">\n",
       "      <th></th>\n",
       "      <th>Duration</th>\n",
       "      <th>Speaker</th>\n",
       "      <th>Title</th>\n",
       "      <th>Date</th>\n",
       "      <th>Transcript</th>\n",
       "    </tr>\n",
       "  </thead>\n",
       "  <tbody>\n",
       "    <tr>\n",
       "      <th>0</th>\n",
       "      <td>0:00</td>\n",
       "      <td>Alexandra Minna Stern and Natalie Lira</td>\n",
       "      <td>The movement that inspired the Holocaust</td>\n",
       "      <td>Mar 2022</td>\n",
       "      <td>As a new widow, Sarah Rosas Garcia was already...</td>\n",
       "    </tr>\n",
       "    <tr>\n",
       "      <th>1</th>\n",
       "      <td>21:33</td>\n",
       "      <td>Anna Malaika Tubbs</td>\n",
       "      <td>The critical role of Black mothers — and how t...</td>\n",
       "      <td>Mar 2022</td>\n",
       "      <td>Anna Malaika Tubbs: \"The Three Mothers\" is abo...</td>\n",
       "    </tr>\n",
       "    <tr>\n",
       "      <th>2</th>\n",
       "      <td>0:00</td>\n",
       "      <td>Kevin Ehrman-Solberg and Kirsten Delegard</td>\n",
       "      <td>The dark history of the suburbs</td>\n",
       "      <td>Mar 2022</td>\n",
       "      <td>On October 21st, 1909, 125 residents  of an af...</td>\n",
       "    </tr>\n",
       "    <tr>\n",
       "      <th>3</th>\n",
       "      <td>0:00</td>\n",
       "      <td>Alex Gendler</td>\n",
       "      <td>Building the impossible: Golden Gate Bridge</td>\n",
       "      <td>Feb 2022</td>\n",
       "      <td>In the mid-1930s, two familiar spires towered ...</td>\n",
       "    </tr>\n",
       "    <tr>\n",
       "      <th>4</th>\n",
       "      <td>0:00</td>\n",
       "      <td>Sydney Iaukea</td>\n",
       "      <td>The dark history of the overthrow of Hawaii</td>\n",
       "      <td>Feb 2022</td>\n",
       "      <td>It was January 16th, 1895. Two men arrived at ...</td>\n",
       "    </tr>\n",
       "    <tr>\n",
       "      <th>...</th>\n",
       "      <td>...</td>\n",
       "      <td>...</td>\n",
       "      <td>...</td>\n",
       "      <td>...</td>\n",
       "      <td>...</td>\n",
       "    </tr>\n",
       "    <tr>\n",
       "      <th>139</th>\n",
       "      <td>8:38</td>\n",
       "      <td>John Legend</td>\n",
       "      <td>\"Redemption Song\"</td>\n",
       "      <td>Jul 2016</td>\n",
       "      <td>At Free America, we've done a listening and le...</td>\n",
       "    </tr>\n",
       "    <tr>\n",
       "      <th>140</th>\n",
       "      <td>4:02</td>\n",
       "      <td>Peter Paccone</td>\n",
       "      <td>Why is the US Constitution so hard to amend?</td>\n",
       "      <td>May 2016</td>\n",
       "      <td>When it was ratified in 1789, the U.S. Constit...</td>\n",
       "    </tr>\n",
       "    <tr>\n",
       "      <th>141</th>\n",
       "      <td>13:49</td>\n",
       "      <td>Mary Bassett</td>\n",
       "      <td>Why your doctor should care about social justice</td>\n",
       "      <td>Feb 2016</td>\n",
       "      <td>When I moved to Harare in 1985, social justice...</td>\n",
       "    </tr>\n",
       "    <tr>\n",
       "      <th>142</th>\n",
       "      <td>16:16</td>\n",
       "      <td>Dalia Mogahed</td>\n",
       "      <td>What it's like to be Muslim in America</td>\n",
       "      <td>Feb 2016</td>\n",
       "      <td>What do you think when you look at me? A woman...</td>\n",
       "    </tr>\n",
       "    <tr>\n",
       "      <th>143</th>\n",
       "      <td>14:04</td>\n",
       "      <td>Dambisa Moyo</td>\n",
       "      <td>Economic growth has stalled. Let's fix it</td>\n",
       "      <td>Feb 2016</td>\n",
       "      <td>Our ability to create and sustain economic gro...</td>\n",
       "    </tr>\n",
       "  </tbody>\n",
       "</table>\n",
       "<p>144 rows × 5 columns</p>\n",
       "</div>"
      ],
      "text/plain": [
       "    Duration                                    Speaker  \\\n",
       "0       0:00     Alexandra Minna Stern and Natalie Lira   \n",
       "1      21:33                         Anna Malaika Tubbs   \n",
       "2       0:00  Kevin Ehrman-Solberg and Kirsten Delegard   \n",
       "3       0:00                               Alex Gendler   \n",
       "4       0:00                              Sydney Iaukea   \n",
       "..       ...                                        ...   \n",
       "139     8:38                                John Legend   \n",
       "140     4:02                              Peter Paccone   \n",
       "141    13:49                               Mary Bassett   \n",
       "142    16:16                              Dalia Mogahed   \n",
       "143    14:04                               Dambisa Moyo   \n",
       "\n",
       "                                                 Title      Date  \\\n",
       "0             The movement that inspired the Holocaust  Mar 2022   \n",
       "1    The critical role of Black mothers — and how t...  Mar 2022   \n",
       "2                      The dark history of the suburbs  Mar 2022   \n",
       "3          Building the impossible: Golden Gate Bridge  Feb 2022   \n",
       "4          The dark history of the overthrow of Hawaii  Feb 2022   \n",
       "..                                                 ...       ...   \n",
       "139                                  \"Redemption Song\"  Jul 2016   \n",
       "140       Why is the US Constitution so hard to amend?  May 2016   \n",
       "141   Why your doctor should care about social justice  Feb 2016   \n",
       "142             What it's like to be Muslim in America  Feb 2016   \n",
       "143          Economic growth has stalled. Let's fix it  Feb 2016   \n",
       "\n",
       "                                            Transcript  \n",
       "0    As a new widow, Sarah Rosas Garcia was already...  \n",
       "1    Anna Malaika Tubbs: \"The Three Mothers\" is abo...  \n",
       "2    On October 21st, 1909, 125 residents  of an af...  \n",
       "3    In the mid-1930s, two familiar spires towered ...  \n",
       "4    It was January 16th, 1895. Two men arrived at ...  \n",
       "..                                                 ...  \n",
       "139  At Free America, we've done a listening and le...  \n",
       "140  When it was ratified in 1789, the U.S. Constit...  \n",
       "141  When I moved to Harare in 1985, social justice...  \n",
       "142  What do you think when you look at me? A woman...  \n",
       "143  Our ability to create and sustain economic gro...  \n",
       "\n",
       "[144 rows x 5 columns]"
      ]
     },
     "execution_count": 29,
     "metadata": {},
     "output_type": "execute_result"
    }
   ],
   "source": [
    "csv_file = 'Result_US.csv'\n",
    "if os.path.exists(csv_file):\n",
    "    df = pd.read_csv(csv_file)\n",
    "else:\n",
    "    data = []\n",
    "    columns = ['Duration', 'Speaker', 'Title', 'Date', 'Transcript']\n",
    "    df = pd.DataFrame(data, columns=columns)\n",
    "df"
   ]
  },
  {
   "cell_type": "code",
   "execution_count": 30,
   "id": "47d7d5d0",
   "metadata": {},
   "outputs": [
    {
     "name": "stdout",
     "output_type": "stream",
     "text": [
      "https://www.ted.com/talks?page=5&sort=newest&topics%5B%5D=United+States\n"
     ]
    }
   ],
   "source": [
    "page = 5\n",
    "topic = 'United+States'\n",
    "# topic = 'china'\n",
    "url = \"https://www.ted.com/talks?page={}&sort=newest&topics%5B%5D={}\".format(page, topic)\n",
    "print(url)"
   ]
  },
  {
   "cell_type": "code",
   "execution_count": 31,
   "id": "95d0ce66",
   "metadata": {},
   "outputs": [],
   "source": [
    "proxies = {\n",
    "    'http': 'http://127.0.0.1:7890', 'https': 'https://127.0.0.1:7890'\n",
    "}\n",
    "res = requests.get(url, proxies)\n",
    "res.encoding = res.apparent_encoding"
   ]
  },
  {
   "cell_type": "code",
   "execution_count": 32,
   "id": "5de70f0c",
   "metadata": {},
   "outputs": [],
   "source": [
    "soup = BeautifulSoup(res.text, 'lxml')"
   ]
  },
  {
   "cell_type": "code",
   "execution_count": 33,
   "id": "792be8ac",
   "metadata": {},
   "outputs": [],
   "source": [
    "target = soup.find(id='browse-results')"
   ]
  },
  {
   "cell_type": "code",
   "execution_count": 34,
   "id": "ec072067",
   "metadata": {},
   "outputs": [
    {
     "name": "stdout",
     "output_type": "stream",
     "text": [
      "col_list_num: 22\n"
     ]
    }
   ],
   "source": [
    "col_list = target.find_all('div', \"col\")\n",
    "print('col_list_num: ' + str(len(col_list)))"
   ]
  },
  {
   "cell_type": "code",
   "execution_count": 35,
   "id": "b7006b03",
   "metadata": {},
   "outputs": [],
   "source": [
    "# a_list = list(map(lambda x:x.find('a')['href'] ,col_list))\n",
    "# a_list"
   ]
  },
  {
   "cell_type": "code",
   "execution_count": 36,
   "id": "7a4ea3aa",
   "metadata": {},
   "outputs": [
    {
     "name": "stderr",
     "output_type": "stream",
     "text": [
      "Page 5 task yanis_varoufakis_capitalism_will_eat_democracy_unless_we_speak_up:   0%|                                                                               | 0/22 [00:00<?, ?it/s]D:\\APP\\Anaconda\\envs\\Scraper\\lib\\site-packages\\urllib3\\connectionpool.py:1043: InsecureRequestWarning: Unverified HTTPS request is being made to host 'www.ted.com'. Adding certificate verification is strongly advised. See: https://urllib3.readthedocs.io/en/1.26.x/advanced-usage.html#ssl-warnings\n",
      "  warnings.warn(\n"
     ]
    },
    {
     "name": "stdout",
     "output_type": "stream",
     "text": [
      "yanis_varoufakis_capitalism_will_eat_democracy_unless_we_speak_up done\n"
     ]
    },
    {
     "name": "stderr",
     "output_type": "stream",
     "text": [
      "Page 5 task david_rothkopf_how_fear_drives_american_politics:   5%|████                                                                                    | 1/22 [00:06<02:23,  6.84s/it]D:\\APP\\Anaconda\\envs\\Scraper\\lib\\site-packages\\urllib3\\connectionpool.py:1043: InsecureRequestWarning: Unverified HTTPS request is being made to host 'www.ted.com'. Adding certificate verification is strongly advised. See: https://urllib3.readthedocs.io/en/1.26.x/advanced-usage.html#ssl-warnings\n",
      "  warnings.warn(\n"
     ]
    },
    {
     "name": "stdout",
     "output_type": "stream",
     "text": [
      "david_rothkopf_how_fear_drives_american_politics done\n"
     ]
    },
    {
     "name": "stderr",
     "output_type": "stream",
     "text": [
      "Page 5 task rich_benjamin_my_road_trip_through_the_whitest_towns_in_america:   9%|██████▋                                                                  | 2/22 [00:12<02:06,  6.34s/it]D:\\APP\\Anaconda\\envs\\Scraper\\lib\\site-packages\\urllib3\\connectionpool.py:1043: InsecureRequestWarning: Unverified HTTPS request is being made to host 'www.ted.com'. Adding certificate verification is strongly advised. See: https://urllib3.readthedocs.io/en/1.26.x/advanced-usage.html#ssl-warnings\n",
      "  warnings.warn(\n"
     ]
    },
    {
     "name": "stdout",
     "output_type": "stream",
     "text": [
      "rich_benjamin_my_road_trip_through_the_whitest_towns_in_america done\n"
     ]
    },
    {
     "name": "stderr",
     "output_type": "stream",
     "text": [
      "Page 5 task trevor_aaronson_how_this_fbi_strategy_is_actually_creating_us_based_terrorists:  14%|███████▉                                                  | 3/22 [00:20<02:15,  7.13s/it]D:\\APP\\Anaconda\\envs\\Scraper\\lib\\site-packages\\urllib3\\connectionpool.py:1043: InsecureRequestWarning: Unverified HTTPS request is being made to host 'www.ted.com'. Adding certificate verification is strongly advised. See: https://urllib3.readthedocs.io/en/1.26.x/advanced-usage.html#ssl-warnings\n",
      "  warnings.warn(\n"
     ]
    },
    {
     "name": "stdout",
     "output_type": "stream",
     "text": [
      "trevor_aaronson_how_this_fbi_strategy_is_actually_creating_us_based_terrorists done\n"
     ]
    },
    {
     "name": "stderr",
     "output_type": "stream",
     "text": [
      "Page 5 task kevin_rudd_are_china_and_the_us_doomed_to_conflict:  18%|███████████████▋                                                                      | 4/22 [00:30<02:29,  8.28s/it]D:\\APP\\Anaconda\\envs\\Scraper\\lib\\site-packages\\urllib3\\connectionpool.py:1043: InsecureRequestWarning: Unverified HTTPS request is being made to host 'www.ted.com'. Adding certificate verification is strongly advised. See: https://urllib3.readthedocs.io/en/1.26.x/advanced-usage.html#ssl-warnings\n",
      "  warnings.warn(\n"
     ]
    },
    {
     "name": "stdout",
     "output_type": "stream",
     "text": [
      "kevin_rudd_are_china_and_the_us_doomed_to_conflict done\n"
     ]
    },
    {
     "name": "stderr",
     "output_type": "stream",
     "text": [
      "Page 5 task dave_isay_everyone_around_you_has_a_story_the_world_needs_to_hear:  23%|████████████████▏                                                      | 5/22 [00:37<02:10,  7.68s/it]D:\\APP\\Anaconda\\envs\\Scraper\\lib\\site-packages\\urllib3\\connectionpool.py:1043: InsecureRequestWarning: Unverified HTTPS request is being made to host 'www.ted.com'. Adding certificate verification is strongly advised. See: https://urllib3.readthedocs.io/en/1.26.x/advanced-usage.html#ssl-warnings\n",
      "  warnings.warn(\n"
     ]
    },
    {
     "name": "stdout",
     "output_type": "stream",
     "text": [
      "dave_isay_everyone_around_you_has_a_story_the_world_needs_to_hear done\n"
     ]
    },
    {
     "name": "stderr",
     "output_type": "stream",
     "text": [
      "Page 5 task ben_wellington_how_we_found_the_worst_place_to_park_in_new_york_city_using_big_data:  27%|██████████████▍                                      | 6/22 [00:50<02:32,  9.53s/it]D:\\APP\\Anaconda\\envs\\Scraper\\lib\\site-packages\\urllib3\\connectionpool.py:1043: InsecureRequestWarning: Unverified HTTPS request is being made to host 'www.ted.com'. Adding certificate verification is strongly advised. See: https://urllib3.readthedocs.io/en/1.26.x/advanced-usage.html#ssl-warnings\n",
      "  warnings.warn(\n"
     ]
    },
    {
     "name": "stdout",
     "output_type": "stream",
     "text": [
      "ben_wellington_how_we_found_the_worst_place_to_park_in_new_york_city_using_big_data done\n"
     ]
    },
    {
     "name": "stderr",
     "output_type": "stream",
     "text": [
      "Page 5 task anthony_hazard_the_atlantic_slave_trade_what_too_few_textbooks_told_you:  32%|████████████████████▋                                            | 7/22 [01:00<02:25,  9.68s/it]D:\\APP\\Anaconda\\envs\\Scraper\\lib\\site-packages\\urllib3\\connectionpool.py:1043: InsecureRequestWarning: Unverified HTTPS request is being made to host 'www.ted.com'. Adding certificate verification is strongly advised. See: https://urllib3.readthedocs.io/en/1.26.x/advanced-usage.html#ssl-warnings\n",
      "  warnings.warn(\n"
     ]
    },
    {
     "name": "stdout",
     "output_type": "stream",
     "text": [
      "anthony_hazard_the_atlantic_slave_trade_what_too_few_textbooks_told_you done\n"
     ]
    },
    {
     "name": "stderr",
     "output_type": "stream",
     "text": [
      "Page 5 task alex_gendler_history_vs_christopher_columbus:  36%|█████████████████████████████████▍                                                          | 8/22 [01:10<02:15,  9.69s/it]D:\\APP\\Anaconda\\envs\\Scraper\\lib\\site-packages\\urllib3\\connectionpool.py:1043: InsecureRequestWarning: Unverified HTTPS request is being made to host 'www.ted.com'. Adding certificate verification is strongly advised. See: https://urllib3.readthedocs.io/en/1.26.x/advanced-usage.html#ssl-warnings\n",
      "  warnings.warn(\n"
     ]
    },
    {
     "name": "stdout",
     "output_type": "stream",
     "text": [
      "alex_gendler_history_vs_christopher_columbus done\n"
     ]
    },
    {
     "name": "stderr",
     "output_type": "stream",
     "text": [
      "Page 5 task dan_barasch_a_park_underneath_the_hustle_and_bustle_of_new_york_city:  41%|███████████████████████████▊                                        | 9/22 [01:19<02:02,  9.40s/it]D:\\APP\\Anaconda\\envs\\Scraper\\lib\\site-packages\\urllib3\\connectionpool.py:1043: InsecureRequestWarning: Unverified HTTPS request is being made to host 'www.ted.com'. Adding certificate verification is strongly advised. See: https://urllib3.readthedocs.io/en/1.26.x/advanced-usage.html#ssl-warnings\n",
      "  warnings.warn(\n"
     ]
    },
    {
     "name": "stdout",
     "output_type": "stream",
     "text": [
      "dan_barasch_a_park_underneath_the_hustle_and_bustle_of_new_york_city done\n"
     ]
    },
    {
     "name": "stderr",
     "output_type": "stream",
     "text": [
      "Page 5 task kenneth_c_davis_what_you_might_not_know_about_the_declaration_of_independence:  45%|██████████████████████████▎                               | 10/22 [01:25<01:40,  8.36s/it]D:\\APP\\Anaconda\\envs\\Scraper\\lib\\site-packages\\urllib3\\connectionpool.py:1043: InsecureRequestWarning: Unverified HTTPS request is being made to host 'www.ted.com'. Adding certificate verification is strongly advised. See: https://urllib3.readthedocs.io/en/1.26.x/advanced-usage.html#ssl-warnings\n",
      "  warnings.warn(\n"
     ]
    },
    {
     "name": "stdout",
     "output_type": "stream",
     "text": [
      "kenneth_c_davis_what_you_might_not_know_about_the_declaration_of_independence done\n"
     ]
    },
    {
     "name": "stderr",
     "output_type": "stream",
     "text": [
      "Page 5 task doug_levinson_what_gives_a_dollar_bill_its_value:  50%|███████████████████████████████████████████▌                                           | 11/22 [01:31<01:25,  7.74s/it]D:\\APP\\Anaconda\\envs\\Scraper\\lib\\site-packages\\urllib3\\connectionpool.py:1043: InsecureRequestWarning: Unverified HTTPS request is being made to host 'www.ted.com'. Adding certificate verification is strongly advised. See: https://urllib3.readthedocs.io/en/1.26.x/advanced-usage.html#ssl-warnings\n",
      "  warnings.warn(\n"
     ]
    },
    {
     "name": "stdout",
     "output_type": "stream",
     "text": [
      "doug_levinson_what_gives_a_dollar_bill_its_value done\n"
     ]
    },
    {
     "name": "stderr",
     "output_type": "stream",
     "text": [
      "Page 5 task nicki_beaman_griffin_the_fight_for_the_right_to_vote_in_the_united_states:  55%|█████████████████████████████████▊                            | 12/22 [01:37<01:12,  7.23s/it]D:\\APP\\Anaconda\\envs\\Scraper\\lib\\site-packages\\urllib3\\connectionpool.py:1043: InsecureRequestWarning: Unverified HTTPS request is being made to host 'www.ted.com'. Adding certificate verification is strongly advised. See: https://urllib3.readthedocs.io/en/1.26.x/advanced-usage.html#ssl-warnings\n",
      "  warnings.warn(\n"
     ]
    },
    {
     "name": "stdout",
     "output_type": "stream",
     "text": [
      "nicki_beaman_griffin_the_fight_for_the_right_to_vote_in_the_united_states done\n"
     ]
    },
    {
     "name": "stderr",
     "output_type": "stream",
     "text": [
      "Page 5 task jeff_steers_who_won_the_space_race:  59%|███████████████████████████████████████████████████████████▋                                         | 13/22 [01:45<01:06,  7.41s/it]D:\\APP\\Anaconda\\envs\\Scraper\\lib\\site-packages\\urllib3\\connectionpool.py:1043: InsecureRequestWarning: Unverified HTTPS request is being made to host 'www.ted.com'. Adding certificate verification is strongly advised. See: https://urllib3.readthedocs.io/en/1.26.x/advanced-usage.html#ssl-warnings\n",
      "  warnings.warn(\n"
     ]
    },
    {
     "name": "stdout",
     "output_type": "stream",
     "text": [
      "jeff_steers_who_won_the_space_race done\n"
     ]
    },
    {
     "name": "stderr",
     "output_type": "stream",
     "text": [
      "Page 5 task belinda_stutzman_how_is_power_divided_in_the_united_states_government:  64%|██████████████████████████████████████████                        | 14/22 [01:52<00:57,  7.21s/it]D:\\APP\\Anaconda\\envs\\Scraper\\lib\\site-packages\\urllib3\\connectionpool.py:1043: InsecureRequestWarning: Unverified HTTPS request is being made to host 'www.ted.com'. Adding certificate verification is strongly advised. See: https://urllib3.readthedocs.io/en/1.26.x/advanced-usage.html#ssl-warnings\n",
      "  warnings.warn(\n"
     ]
    },
    {
     "name": "stdout",
     "output_type": "stream",
     "text": [
      "belinda_stutzman_how_is_power_divided_in_the_united_states_government done\n"
     ]
    },
    {
     "name": "stderr",
     "output_type": "stream",
     "text": [
      "Page 5 task io_tillett_wright_fifty_shades_of_gay:  68%|██████████████████████████████████████████████████████████████████▊                               | 15/22 [01:58<00:48,  6.96s/it]D:\\APP\\Anaconda\\envs\\Scraper\\lib\\site-packages\\urllib3\\connectionpool.py:1043: InsecureRequestWarning: Unverified HTTPS request is being made to host 'www.ted.com'. Adding certificate verification is strongly advised. See: https://urllib3.readthedocs.io/en/1.26.x/advanced-usage.html#ssl-warnings\n",
      "  warnings.warn(\n"
     ]
    },
    {
     "name": "stdout",
     "output_type": "stream",
     "text": [
      "io_tillett_wright_fifty_shades_of_gay done\n"
     ]
    },
    {
     "name": "stderr",
     "output_type": "stream",
     "text": [
      "Page 5 task christina_greer_gerrymandering_how_drawing_jagged_lines_can_impact_an_election:  73%|█████████████████████████████████████████▍               | 16/22 [02:06<00:42,  7.15s/it]D:\\APP\\Anaconda\\envs\\Scraper\\lib\\site-packages\\urllib3\\connectionpool.py:1043: InsecureRequestWarning: Unverified HTTPS request is being made to host 'www.ted.com'. Adding certificate verification is strongly advised. See: https://urllib3.readthedocs.io/en/1.26.x/advanced-usage.html#ssl-warnings\n",
      "  warnings.warn(\n"
     ]
    },
    {
     "name": "stdout",
     "output_type": "stream",
     "text": [
      "christina_greer_gerrymandering_how_drawing_jagged_lines_can_impact_an_election done\n"
     ]
    },
    {
     "name": "stderr",
     "output_type": "stream",
     "text": [
      "Page 5 task ed_gavagan_a_story_about_knots_and_surgeons:  77%|███████████████████████████████████████████████████████████████████████                     | 17/22 [02:14<00:37,  7.41s/it]D:\\APP\\Anaconda\\envs\\Scraper\\lib\\site-packages\\urllib3\\connectionpool.py:1043: InsecureRequestWarning: Unverified HTTPS request is being made to host 'www.ted.com'. Adding certificate verification is strongly advised. See: https://urllib3.readthedocs.io/en/1.26.x/advanced-usage.html#ssl-warnings\n",
      "  warnings.warn(\n"
     ]
    },
    {
     "name": "stdout",
     "output_type": "stream",
     "text": [
      "ed_gavagan_a_story_about_knots_and_surgeons done\n"
     ]
    },
    {
     "name": "stderr",
     "output_type": "stream",
     "text": [
      "Page 5 task jay_walker_the_world_s_english_mania:  82%|█████████████████████████████████████████████████████████████████████████████████                  | 18/22 [02:21<00:29,  7.36s/it]D:\\APP\\Anaconda\\envs\\Scraper\\lib\\site-packages\\urllib3\\connectionpool.py:1043: InsecureRequestWarning: Unverified HTTPS request is being made to host 'www.ted.com'. Adding certificate verification is strongly advised. See: https://urllib3.readthedocs.io/en/1.26.x/advanced-usage.html#ssl-warnings\n",
      "  warnings.warn(\n"
     ]
    },
    {
     "name": "stdout",
     "output_type": "stream",
     "text": [
      "jay_walker_the_world_s_english_mania done\n"
     ]
    },
    {
     "name": "stderr",
     "output_type": "stream",
     "text": [
      "Page 5 task ben_katchor_comics_of_bygone_new_york:  86%|████████████████████████████████████████████████████████████████████████████████████▋             | 19/22 [02:27<00:21,  7.02s/it]D:\\APP\\Anaconda\\envs\\Scraper\\lib\\site-packages\\urllib3\\connectionpool.py:1043: InsecureRequestWarning: Unverified HTTPS request is being made to host 'www.ted.com'. Adding certificate verification is strongly advised. See: https://urllib3.readthedocs.io/en/1.26.x/advanced-usage.html#ssl-warnings\n",
      "  warnings.warn(\n"
     ]
    },
    {
     "name": "stdout",
     "output_type": "stream",
     "text": [
      "ben_katchor_comics_of_bygone_new_york done\n"
     ]
    },
    {
     "name": "stderr",
     "output_type": "stream",
     "text": [
      "Page 5 task david_rockwell_a_memorial_at_ground_zero:  91%|██████████████████████████████████████████████████████████████████████████████████████▎        | 20/22 [02:33<00:13,  6.72s/it]D:\\APP\\Anaconda\\envs\\Scraper\\lib\\site-packages\\urllib3\\connectionpool.py:1043: InsecureRequestWarning: Unverified HTTPS request is being made to host 'www.ted.com'. Adding certificate verification is strongly advised. See: https://urllib3.readthedocs.io/en/1.26.x/advanced-usage.html#ssl-warnings\n",
      "  warnings.warn(\n"
     ]
    },
    {
     "name": "stdout",
     "output_type": "stream",
     "text": [
      "david_rockwell_a_memorial_at_ground_zero done\n"
     ]
    },
    {
     "name": "stderr",
     "output_type": "stream",
     "text": [
      "Page 5 task anna_deavere_smith_four_american_characters:  95%|███████████████████████████████████████████████████████████████████████████████████████▊    | 21/22 [02:40<00:06,  6.72s/it]D:\\APP\\Anaconda\\envs\\Scraper\\lib\\site-packages\\urllib3\\connectionpool.py:1043: InsecureRequestWarning: Unverified HTTPS request is being made to host 'www.ted.com'. Adding certificate verification is strongly advised. See: https://urllib3.readthedocs.io/en/1.26.x/advanced-usage.html#ssl-warnings\n",
      "  warnings.warn(\n"
     ]
    },
    {
     "name": "stdout",
     "output_type": "stream",
     "text": [
      "anna_deavere_smith_four_american_characters done\n"
     ]
    },
    {
     "name": "stderr",
     "output_type": "stream",
     "text": [
      "Page 5 task anna_deavere_smith_four_american_characters: 100%|████████████████████████████████████████████████████████████████████████████████████████████| 22/22 [02:47<00:00,  7.59s/it]\n"
     ]
    },
    {
     "data": {
      "text/html": [
       "<div>\n",
       "<style scoped>\n",
       "    .dataframe tbody tr th:only-of-type {\n",
       "        vertical-align: middle;\n",
       "    }\n",
       "\n",
       "    .dataframe tbody tr th {\n",
       "        vertical-align: top;\n",
       "    }\n",
       "\n",
       "    .dataframe thead th {\n",
       "        text-align: right;\n",
       "    }\n",
       "</style>\n",
       "<table border=\"1\" class=\"dataframe\">\n",
       "  <thead>\n",
       "    <tr style=\"text-align: right;\">\n",
       "      <th></th>\n",
       "      <th>Duration</th>\n",
       "      <th>Speaker</th>\n",
       "      <th>Title</th>\n",
       "      <th>Date</th>\n",
       "      <th>Transcript</th>\n",
       "    </tr>\n",
       "  </thead>\n",
       "  <tbody>\n",
       "    <tr>\n",
       "      <th>0</th>\n",
       "      <td>0:00</td>\n",
       "      <td>Alexandra Minna Stern and Natalie Lira</td>\n",
       "      <td>The movement that inspired the Holocaust</td>\n",
       "      <td>Mar 2022</td>\n",
       "      <td>As a new widow, Sarah Rosas Garcia was already...</td>\n",
       "    </tr>\n",
       "    <tr>\n",
       "      <th>1</th>\n",
       "      <td>21:33</td>\n",
       "      <td>Anna Malaika Tubbs</td>\n",
       "      <td>The critical role of Black mothers — and how t...</td>\n",
       "      <td>Mar 2022</td>\n",
       "      <td>Anna Malaika Tubbs: \"The Three Mothers\" is abo...</td>\n",
       "    </tr>\n",
       "    <tr>\n",
       "      <th>2</th>\n",
       "      <td>0:00</td>\n",
       "      <td>Kevin Ehrman-Solberg and Kirsten Delegard</td>\n",
       "      <td>The dark history of the suburbs</td>\n",
       "      <td>Mar 2022</td>\n",
       "      <td>On October 21st, 1909, 125 residents  of an af...</td>\n",
       "    </tr>\n",
       "    <tr>\n",
       "      <th>3</th>\n",
       "      <td>0:00</td>\n",
       "      <td>Alex Gendler</td>\n",
       "      <td>Building the impossible: Golden Gate Bridge</td>\n",
       "      <td>Feb 2022</td>\n",
       "      <td>In the mid-1930s, two familiar spires towered ...</td>\n",
       "    </tr>\n",
       "    <tr>\n",
       "      <th>4</th>\n",
       "      <td>0:00</td>\n",
       "      <td>Sydney Iaukea</td>\n",
       "      <td>The dark history of the overthrow of Hawaii</td>\n",
       "      <td>Feb 2022</td>\n",
       "      <td>It was January 16th, 1895. Two men arrived at ...</td>\n",
       "    </tr>\n",
       "    <tr>\n",
       "      <th>...</th>\n",
       "      <td>...</td>\n",
       "      <td>...</td>\n",
       "      <td>...</td>\n",
       "      <td>...</td>\n",
       "      <td>...</td>\n",
       "    </tr>\n",
       "    <tr>\n",
       "      <th>161</th>\n",
       "      <td>12:21</td>\n",
       "      <td>Ed Gavagan</td>\n",
       "      <td>A story about knots and surgeons</td>\n",
       "      <td>Sep 2012</td>\n",
       "      <td>You know, we wake up in the morning, you get d...</td>\n",
       "    </tr>\n",
       "    <tr>\n",
       "      <th>162</th>\n",
       "      <td>4:34</td>\n",
       "      <td>Jay Walker</td>\n",
       "      <td>The world's English mania</td>\n",
       "      <td>May 2009</td>\n",
       "      <td>Let's talk about manias. Let's start with Beat...</td>\n",
       "    </tr>\n",
       "    <tr>\n",
       "      <th>163</th>\n",
       "      <td>11:11</td>\n",
       "      <td>Ben Katchor</td>\n",
       "      <td>Comics of bygone New York</td>\n",
       "      <td>Apr 2009</td>\n",
       "      <td>I'm going to read a few strips. These are, mos...</td>\n",
       "    </tr>\n",
       "    <tr>\n",
       "      <th>164</th>\n",
       "      <td>24:37</td>\n",
       "      <td>David Rockwell</td>\n",
       "      <td>A memorial at Ground Zero</td>\n",
       "      <td>Jun 2007</td>\n",
       "      <td>Kurt Andersen: Like many architects, David is ...</td>\n",
       "    </tr>\n",
       "    <tr>\n",
       "      <th>165</th>\n",
       "      <td>23:05</td>\n",
       "      <td>Anna Deavere Smith</td>\n",
       "      <td>Four American characters</td>\n",
       "      <td>Feb 2007</td>\n",
       "      <td>So my grandfather told me when I was a little ...</td>\n",
       "    </tr>\n",
       "  </tbody>\n",
       "</table>\n",
       "<p>166 rows × 5 columns</p>\n",
       "</div>"
      ],
      "text/plain": [
       "    Duration                                    Speaker  \\\n",
       "0       0:00     Alexandra Minna Stern and Natalie Lira   \n",
       "1      21:33                         Anna Malaika Tubbs   \n",
       "2       0:00  Kevin Ehrman-Solberg and Kirsten Delegard   \n",
       "3       0:00                               Alex Gendler   \n",
       "4       0:00                              Sydney Iaukea   \n",
       "..       ...                                        ...   \n",
       "161    12:21                                 Ed Gavagan   \n",
       "162     4:34                                 Jay Walker   \n",
       "163    11:11                                Ben Katchor   \n",
       "164    24:37                             David Rockwell   \n",
       "165    23:05                         Anna Deavere Smith   \n",
       "\n",
       "                                                 Title      Date  \\\n",
       "0             The movement that inspired the Holocaust  Mar 2022   \n",
       "1    The critical role of Black mothers — and how t...  Mar 2022   \n",
       "2                      The dark history of the suburbs  Mar 2022   \n",
       "3          Building the impossible: Golden Gate Bridge  Feb 2022   \n",
       "4          The dark history of the overthrow of Hawaii  Feb 2022   \n",
       "..                                                 ...       ...   \n",
       "161                   A story about knots and surgeons  Sep 2012   \n",
       "162                          The world's English mania  May 2009   \n",
       "163                          Comics of bygone New York  Apr 2009   \n",
       "164                          A memorial at Ground Zero  Jun 2007   \n",
       "165                           Four American characters  Feb 2007   \n",
       "\n",
       "                                            Transcript  \n",
       "0    As a new widow, Sarah Rosas Garcia was already...  \n",
       "1    Anna Malaika Tubbs: \"The Three Mothers\" is abo...  \n",
       "2    On October 21st, 1909, 125 residents  of an af...  \n",
       "3    In the mid-1930s, two familiar spires towered ...  \n",
       "4    It was January 16th, 1895. Two men arrived at ...  \n",
       "..                                                 ...  \n",
       "161  You know, we wake up in the morning, you get d...  \n",
       "162  Let's talk about manias. Let's start with Beat...  \n",
       "163  I'm going to read a few strips. These are, mos...  \n",
       "164  Kurt Andersen: Like many architects, David is ...  \n",
       "165  So my grandfather told me when I was a little ...  \n",
       "\n",
       "[166 rows x 5 columns]"
      ]
     },
     "execution_count": 36,
     "metadata": {},
     "output_type": "execute_result"
    }
   ],
   "source": [
    "tasks_list = tqdm(col_list)\n",
    "for col in tasks_list:\n",
    "    # 获取基本信息\n",
    "    contents = list(col.stripped_strings)\n",
    "    contents.pop(-2)\n",
    "    \n",
    "    # 获取字幕\n",
    "    t_id = col.find('a')['href'].split('/')[-1]\n",
    "    tasks_list.set_description('Page {} task {}'.format(page, t_id))\n",
    "    url = \"https://www.ted.com/graphql?operationName=Transcript&variables=%7B%22id%22%3A%22{}%22%2C%22language%22%3A%22en%22%7D&extensions=%7B%22persistedQuery%22%3A%7B%22version%22%3A1%2C%22sha256Hash%22%3A%2218f8e983b84c734317ae9388c83a13bc98702921b141c2124b3ce4aeb6c48ef6%22%7D%7D\".format(t_id)\n",
    "    proxies = {\n",
    "        'http': 'http://127.0.0.1:7890', 'https': 'https://127.0.0.1:7890'\n",
    "    }\n",
    "    headers = {\n",
    "      'Cookie': '_abby=fGNt0UjmN6pIoM5; _abby_hero_form=c; _abby_post15s=b; _abby_web_606_talkpage_membership_conversion=a; _nu=1646903272'\n",
    "    }\n",
    "    res2 = requests.request(\"GET\", url, headers=headers, verify=False)\n",
    "    transcript = ''\n",
    "    if not ('data' in json.loads(res2.text).keys()):\n",
    "        print(t_id)\n",
    "    else:\n",
    "        data = json.loads(res2.text)['data']\n",
    "        if data['translation']:\n",
    "            transcriptsList = []\n",
    "            for cues in data['translation']['paragraphs']:\n",
    "                for cue in cues['cues']:\n",
    "                    text = cue['text']\n",
    "                    text = text.replace('\\n', ' ')\n",
    "                    transcriptsList.append(text)\n",
    "            transcript = ' '.join(transcriptsList)\n",
    "        else:\n",
    "            pass\n",
    "        \n",
    "    # 汇总单个视频的所有信息\n",
    "    contents.append(transcript)\n",
    "\n",
    "    # 将信息添加到df里\n",
    "    df.loc[len(df.index)] = (contents)\n",
    "    print(t_id + ' done')\n",
    "    time.sleep(5)\n",
    "\n",
    "df"
   ]
  },
  {
   "cell_type": "code",
   "execution_count": 37,
   "id": "eb8d344b",
   "metadata": {},
   "outputs": [],
   "source": [
    "os.getcwd()\n",
    "df.to_csv(csv_file, index=0) #相对位置，保存在getwcd()获得的路径下"
   ]
  },
  {
   "cell_type": "code",
   "execution_count": null,
   "id": "b0a7b2e5",
   "metadata": {},
   "outputs": [],
   "source": []
  }
 ],
 "metadata": {
  "kernelspec": {
   "display_name": "Scraper",
   "language": "python",
   "name": "scraper"
  },
  "language_info": {
   "codemirror_mode": {
    "name": "ipython",
    "version": 3
   },
   "file_extension": ".py",
   "mimetype": "text/x-python",
   "name": "python",
   "nbconvert_exporter": "python",
   "pygments_lexer": "ipython3",
   "version": "3.9.7"
  }
 },
 "nbformat": 4,
 "nbformat_minor": 5
}
